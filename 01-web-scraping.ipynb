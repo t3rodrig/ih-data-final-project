{
 "cells": [
  {
   "cell_type": "code",
   "execution_count": 1,
   "metadata": {},
   "outputs": [],
   "source": [
    "import json\n",
    "import time\n",
    "import numpy as np\n",
    "import pandas as pd\n",
    "from selenium import webdriver\n",
    "from selenium.webdriver.common.keys import Keys\n",
    "from webdriver_manager.firefox import GeckoDriverManager"
   ]
  },
  {
   "cell_type": "code",
   "execution_count": 2,
   "metadata": {},
   "outputs": [],
   "source": [
    "class Spider:\n",
    "    \"\"\"\n",
    "    This is the constructor class to which you can pass a bunch of parameters. \n",
    "    These parameters are stored to the class instance variables so that the\n",
    "    class functions can access them later.\n",
    "    \n",
    "    no_of_pagedowns: number of times sending PAGE-DOWN key\n",
    "    \"\"\"\n",
    "    def __init__(self, no_of_pagedowns=1):\n",
    "        self.driver = webdriver.Firefox(\n",
    "            executable_path=GeckoDriverManager().install()\n",
    "        )\n",
    "        self.pagedowns = no_of_pagedowns\n",
    "        self.product_list = []\n",
    "        self.url_list = []\n",
    "                \n",
    "    def get_info(self, url, selectors):\n",
    "        driver = self.driver\n",
    "        result = dict()\n",
    "        driver.get(url)\n",
    "        result['product_name'] = self.get_target(\n",
    "            selectors['product_name'], 'text'\n",
    "        )\n",
    "        result['product_chunk'] = self.get_target(\n",
    "            selectors['product_chunk'], 'text'\n",
    "        )\n",
    "        result['product_image'] = self.get_target(\n",
    "            selectors['product_image'], 'href'\n",
    "        )\n",
    "        result['product_description'] = self.get_target(\n",
    "            selectors['product_description'], 'text'\n",
    "        )\n",
    "        \n",
    "        self.get_target(\n",
    "            selectors['product_more_info']['click'],\n",
    "            'click'\n",
    "        )\n",
    "        result['product_more_info'] = self.get_target(\n",
    "            selectors['product_more_info']['info'],\n",
    "            'text'\n",
    "        )\n",
    "        \n",
    "        return result\n",
    "    \n",
    "    def get_target(self, selector, target):\n",
    "        driver = self.driver\n",
    "        if target == 'text':\n",
    "            try: \n",
    "                return driver.find_element_by_xpath(\n",
    "                    selector\n",
    "                ).text\n",
    "            except: \n",
    "                return None\n",
    "        elif target == 'href':\n",
    "            try: \n",
    "                return driver.find_element_by_xpath(\n",
    "                    selector\n",
    "                ).get_attribute('href')\n",
    "            except: \n",
    "                return None\n",
    "        elif target == 'click':\n",
    "            try: \n",
    "                return driver.find_element_by_xpath(\n",
    "                    selector\n",
    "                ).click()\n",
    "            except: \n",
    "                return None\n",
    "        else:\n",
    "            return None\n",
    "       \n",
    "    def get_list(self, url, item_selector, link_selector):\n",
    "        pagedowns = self.pagedowns\n",
    "        driver = self.driver\n",
    "        result = []\n",
    "\n",
    "        driver.get(url)\n",
    "        body = driver.find_element_by_tag_name(\"body\")     \n",
    "        \n",
    "        for number in range(1, pagedowns+1):\n",
    "            body.send_keys(Keys.PAGE_DOWN)\n",
    "            time.sleep(0.5)\n",
    "            \n",
    "        div_elements = driver.find_elements_by_css_selector(item_selector)\n",
    "        \n",
    "        for div in div_elements:\n",
    "            anchor = div.find_element_by_css_selector(link_selector)\n",
    "            result.append(anchor.get_attribute('href'))\n",
    "        \n",
    "        result = np.unique(result).tolist()\n",
    "        self.url_list = np.unique(result + self.url_list).tolist()\n",
    "        print(f'{len(self.url_list)} links')\n",
    "    \n",
    "    def clear_list(self):\n",
    "        self.url_list = []\n",
    "        \n",
    "    def clear_products(self):\n",
    "        self.product_list = []\n",
    "\n",
    "    def save_products(self, fname='products.json'):\n",
    "        with open(fname, \"w\") as outfile:\n",
    "            json.dump(self.product_list, outfile, indent=2)\n",
    "        print(\"Products saved.\")\n",
    "    \n",
    "    def loop_it(self, selectors):\n",
    "        iterable = self.url_list\n",
    "        if len(iterable) == 0:\n",
    "            raise Exception('Try running \"get_list\"\\n')\n",
    "        for link in iterable:\n",
    "            self.product_list.append(self.get_info(link, selectors))\n",
    "            time.sleep(7)\n",
    "        print('Loop done.')"
   ]
  },
  {
   "cell_type": "code",
   "execution_count": 3,
   "metadata": {},
   "outputs": [
    {
     "name": "stderr",
     "output_type": "stream",
     "text": [
      "[WDM] - Driver [/home/tonalli/.wdm/drivers/geckodriver/linux64/v0.27.0/geckodriver] found in cache\n"
     ]
    }
   ],
   "source": [
    "my_spider = Spider(no_of_pagedowns=40)"
   ]
  },
  {
   "cell_type": "code",
   "execution_count": 4,
   "metadata": {},
   "outputs": [],
   "source": [
    "target_url = 'https://www.yvesrocher.com.mx/YR/Products/Search?id=*'\n",
    "item_selector = 'div.ProductElement'\n",
    "link_selector = 'a.btn'"
   ]
  },
  {
   "cell_type": "code",
   "execution_count": 5,
   "metadata": {},
   "outputs": [],
   "source": [
    "product_selectors = {\n",
    "    'product_name': '/html/body/div[3]/div[2]/div[3]/div[2]/div/div[2]/p',\n",
    "    'product_chunk': '/html/body/div[3]/div[2]/div[3]/div[2]/div/div[4]/div/div[1]',\n",
    "    'product_image': '//*[@id=\"ProductPhoto\"]',\n",
    "    'product_description': '//*[@id=\"descrip\"]/div/div',\n",
    "    'product_more_info': {\n",
    "        'click': \"//a[contains(text(),'SECRETO')]\",\n",
    "        'info': '//*[@id=\"secreto\"]/div/div'\n",
    "    }\n",
    "}"
   ]
  },
  {
   "cell_type": "code",
   "execution_count": 6,
   "metadata": {},
   "outputs": [],
   "source": [
    "# All clean\n",
    "# test_url = 'https://www.yvesrocher.com.mx/YR/Products/Details/67204'\n",
    "\n",
    "# There are missing values\n",
    "# test_url = 'https://www.yvesrocher.com.mx/YR/Products/Details/L36449'\n",
    "\n",
    "# my_spider.get_info(test_url, product_selectors)"
   ]
  },
  {
   "cell_type": "code",
   "execution_count": 7,
   "metadata": {},
   "outputs": [],
   "source": [
    "# my_spider.get_list(target_url, item_selector, link_selector)\n",
    "# my_spider.url_list"
   ]
  },
  {
   "cell_type": "code",
   "execution_count": 8,
   "metadata": {},
   "outputs": [],
   "source": [
    "# my_spider.loop_it(product_selectors)\n",
    "# my_spider.product_list"
   ]
  },
  {
   "cell_type": "code",
   "execution_count": 9,
   "metadata": {},
   "outputs": [],
   "source": [
    "# my_spider.save_products()"
   ]
  },
  {
   "cell_type": "code",
   "execution_count": 10,
   "metadata": {},
   "outputs": [],
   "source": [
    "categories = {\n",
    "    'faciales': [\n",
    "        'https://www.yvesrocher.com.mx/YR/Products/Child/4',\n",
    "        'https://www.yvesrocher.com.mx/YR/Products/Child/5',\n",
    "        'https://www.yvesrocher.com.mx/YR/Products/Child/3'\n",
    "    ],\n",
    "    'capilares': [\n",
    "        'https://www.yvesrocher.com.mx/YR/Products/Child/17',\n",
    "        'https://www.yvesrocher.com.mx/YR/Products/Child/18'\n",
    "    ],\n",
    "    'corporales': [\n",
    "        'https://www.yvesrocher.com.mx/YR/Products/Child/12',\n",
    "        'https://www.yvesrocher.com.mx/YR/Products/Child/168',\n",
    "        'https://www.yvesrocher.com.mx/YR/Products/Child/169'\n",
    "        \n",
    "    ],\n",
    "    'maquillaje': [\n",
    "        'https://www.yvesrocher.com.mx/YR/Products/Child/6',\n",
    "        'https://www.yvesrocher.com.mx/YR/Products/Child/7',\n",
    "        'https://www.yvesrocher.com.mx/YR/Products/Child/8',\n",
    "        'https://www.yvesrocher.com.mx/YR/Products/Child/9'\n",
    "        \n",
    "    ],\n",
    "    'fragancias': [\n",
    "        'https://www.yvesrocher.com.mx/YR/Products/Child/10',\n",
    "        'https://www.yvesrocher.com.mx/YR/Products/Child/11'\n",
    "    ],\n",
    "    'higiene': [\n",
    "        'https://www.yvesrocher.com.mx/YR/Products/Child/15',\n",
    "        'https://www.yvesrocher.com.mx/YR/Products/Child/1185'\n",
    "    ]\n",
    "}"
   ]
  },
  {
   "cell_type": "code",
   "execution_count": 11,
   "metadata": {},
   "outputs": [
    {
     "name": "stdout",
     "output_type": "stream",
     "text": [
      "https://www.yvesrocher.com.mx/YR/Products/Child/4\n",
      "41 links\n",
      "https://www.yvesrocher.com.mx/YR/Products/Child/5\n",
      "99 links\n",
      "https://www.yvesrocher.com.mx/YR/Products/Child/3\n",
      "99 links\n",
      "https://www.yvesrocher.com.mx/YR/Products/Child/17\n",
      "33 links\n",
      "https://www.yvesrocher.com.mx/YR/Products/Child/18\n",
      "33 links\n",
      "https://www.yvesrocher.com.mx/YR/Products/Child/12\n",
      "30 links\n",
      "https://www.yvesrocher.com.mx/YR/Products/Child/168\n",
      "64 links\n",
      "https://www.yvesrocher.com.mx/YR/Products/Child/169\n",
      "64 links\n",
      "https://www.yvesrocher.com.mx/YR/Products/Child/6\n",
      "77 links\n",
      "https://www.yvesrocher.com.mx/YR/Products/Child/7\n",
      "179 links\n",
      "https://www.yvesrocher.com.mx/YR/Products/Child/8\n",
      "263 links\n",
      "https://www.yvesrocher.com.mx/YR/Products/Child/9\n",
      "290 links\n",
      "https://www.yvesrocher.com.mx/YR/Products/Child/10\n",
      "50 links\n",
      "https://www.yvesrocher.com.mx/YR/Products/Child/11\n",
      "50 links\n",
      "https://www.yvesrocher.com.mx/YR/Products/Child/15\n",
      "119 links\n",
      "https://www.yvesrocher.com.mx/YR/Products/Child/1185\n",
      "119 links\n"
     ]
    }
   ],
   "source": [
    "for category, links in categories.items():\n",
    "    for each_link in links:\n",
    "        print(each_link)\n",
    "        my_spider.get_list(each_link, item_selector, link_selector)\n",
    "    np.savetxt(f'./data/url_{category}.txt', np.array(my_spider.url_list), fmt='%s')\n",
    "    #my_spider.loop_it(product_selectors)\n",
    "    #my_spider.save_products(f'{category}.json')\n",
    "    my_spider.clear_list()\n",
    "    #my_spider.clear_products()"
   ]
  },
  {
   "cell_type": "code",
   "execution_count": 16,
   "metadata": {},
   "outputs": [
    {
     "name": "stdout",
     "output_type": "stream",
     "text": [
      "faciales\n",
      "Loop done.\n",
      "Products saved.\n",
      "capilares\n",
      "Loop done.\n",
      "Products saved.\n",
      "corporales\n",
      "Loop done.\n",
      "Products saved.\n",
      "maquillaje\n",
      "Loop done.\n",
      "Products saved.\n",
      "fragancias\n",
      "Loop done.\n",
      "Products saved.\n",
      "higiene\n",
      "Loop done.\n",
      "Products saved.\n"
     ]
    }
   ],
   "source": [
    "for category in categories.keys():\n",
    "    print(category)\n",
    "    my_spider.url_list = np.loadtxt(\n",
    "        f'./data/url_{category}.txt',\n",
    "        dtype=str\n",
    "    ).tolist()\n",
    "    my_spider.loop_it(product_selectors)\n",
    "    my_spider.save_products(f'./data/{category}.json')\n",
    "    my_spider.clear_products()"
   ]
  },
  {
   "cell_type": "code",
   "execution_count": null,
   "metadata": {},
   "outputs": [],
   "source": []
  }
 ],
 "metadata": {
  "kernelspec": {
   "display_name": "Python 3",
   "language": "python",
   "name": "python3"
  },
  "language_info": {
   "codemirror_mode": {
    "name": "ipython",
    "version": 3
   },
   "file_extension": ".py",
   "mimetype": "text/x-python",
   "name": "python",
   "nbconvert_exporter": "python",
   "pygments_lexer": "ipython3",
   "version": "3.8.3"
  }
 },
 "nbformat": 4,
 "nbformat_minor": 4
}
